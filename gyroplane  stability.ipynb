{
 "cells": [
  {
   "cell_type": "markdown",
   "metadata": {},
   "source": [
    "# GYROPLANE LONGITUDINAL STABILITY SIMULATOR\n",
    "## Parameters"
   ]
  },
  {
   "cell_type": "code",
   "execution_count": 1,
   "metadata": {},
   "outputs": [
    {
     "name": "stdout",
     "output_type": "stream",
     "text": [
      "520 11 0.66 0.07853981633974483 51 3.141592653589793 0.07853981633974483\n"
     ]
    }
   ],
   "source": [
    "import numpy\n",
    "import matplotlib.pyplot as plt\n",
    "#import ipywidgets\n",
    "auw = 520 #400*2.2\n",
    "iyy =100\n",
    "ir=147\n",
    "gamma = 9 # hard wired replace with actual formula \n",
    "radius = 11 #4.2*3.3*0.976\n",
    "chord =0.2*3.3\n",
    "b = 2\n",
    "a = 5.7\n",
    "rho = 0.0024\n",
    "pi = numpy.pi\n",
    "\n",
    "u = 51#32*3.3\n",
    "delta = 0.013\n",
    "theta =4.5*numpy.pi/180\n",
    "cd = 0.013\n",
    "thrust = 200\n",
    "hp = 0\n",
    "stabLever = 1.6*3.3\n",
    "stabArea =0\n",
    "stabLiftSlope = 3.5\n",
    "h = 1.5*3.3\n",
    "vcg =-0.42\n",
    "af = 10\n",
    "propEff = 0.65\n",
    "timeInt = 0.01\n",
    "\n",
    "print (auw, radius, chord, theta,u,pi,theta)"
   ]
  },
  {
   "cell_type": "code",
   "execution_count": 2,
   "metadata": {},
   "outputs": [
    {
     "name": "stdout",
     "output_type": "stream",
     "text": [
      "[51, 3.2250417214953946, 0, 0.036, 37.951510384556165, 0.12216545769546867, 0.007725268588107199, 0.02768035188239759]\n",
      "0.08729166063477618 0.0028804934704675903\n",
      "0.034716722782303415\n",
      "17.493964968760064\n",
      "530.1443203625024\n",
      "2.401138191042036\n",
      "tip speed fps 417.46661423011784\n"
     ]
    }
   ],
   "source": [
    "mass = auw/32.4\n",
    "s = b*chord/(numpy.pi*radius)\n",
    "A = numpy.pi * radius**2\n",
    "lamda = -theta/3+1/a*((a*theta/3)**2+a*cd/2)**0.5*0.7935\n",
    "om = 1/radius*(auw/(s*a/2*(theta/3+lamda/2)*A*rho))**0.5\n",
    "rrpm = om/(2*numpy.pi)*60\n",
    "mu = u/(radius*om)\n",
    "tc = a/4*(2/3*theta*(1+3/2*mu**2)+lamda)\n",
    "tcAlt = auw/(rho*s*A*om**2*radius**2)\n",
    "vi = auw/(2*rho*u*A)\n",
    "aOne = 2*mu*(4*theta/3+lamda)/(1-mu**2/2)\n",
    "hc = a/2*(mu*delta/(2*a)+aOne*theta/3+0.75*lamda*aOne-0.5*mu*theta*lamda+0.25*mu*aOne**2)\n",
    "qc = delta*(1+3*mu**2)/8-lamda*tc-mu*hc\n",
    "w = lamda*om*radius\n",
    "angle = 0.036\n",
    "q = 0\n",
    "thrust2 = 250/(rho*s*A*om**2*radius**2)\n",
    "longCG = (-thrust2*vcg-hc*h)/tc\n",
    "alphanf = numpy.arctan(lamda/mu)\n",
    "currentState = [u,w,q,angle,om,mu,lamda,aOne]\n",
    "startState = currentState.copy()\n",
    "print(currentState)\n",
    "print(tc,hc)\n",
    "print (longCG)\n",
    "print (hc*om**2*rho*s*radius**2*A)\n",
    "print(tc*om**2*rho*s*radius**2*A)\n",
    "print ( 1/(s*tc/(2*mu**2)+s*delta/(4*mu*s*tc)*(1+0*mu**2)))\n",
    "uint = u\n",
    "wint = w\n",
    "print(\"tip speed fps\", om*radius)\n"
   ]
  },
  {
   "cell_type": "code",
   "execution_count": null,
   "metadata": {},
   "outputs": [],
   "source": [
    "\n",
    "\n"
   ]
  },
  {
   "cell_type": "code",
   "execution_count": null,
   "metadata": {},
   "outputs": [],
   "source": [
    "\n",
    "\n"
   ]
  },
  {
   "cell_type": "code",
   "execution_count": 3,
   "metadata": {},
   "outputs": [],
   "source": [
    "def calForcesMoments(state):\n",
    "    u = state[0];w=state[1];q=state[2];angle=state[3];om=state[4];mu=state[5];lamda=state[6];aOne=state[7]\n",
    "    hc = a/2*(mu*delta/(2*a)+1/3*aOne*theta+3/4*lamda*aOne-1/2*mu*theta*lamda+1/4*mu*aOne**2)\n",
    "    tc = a/4*(2/3*theta*(1+3*mu**2/2)+lamda)\n",
    "    qc = delta*(1+4.7*mu**2)/8-lamda*tc-mu*hc\n",
    "    #lamda = lamda + s*tc/(2*mu) # correcting lamda as it needs to include lamdai =stc/2mu\n",
    "    daOnedq = -16/gamma*(1/(1-mu**2/2))\n",
    "    #print (daOnedq*1000/iyy)\n",
    "    dhcdq = a/4*(0.5*lamda+mu*aOne-mu**2*theta)*daOnedq\n",
    "    Xq = -tc*daOnedq*rho*s*A*om*radius**2-dhcdq\n",
    "    dragX = af*((u**2+w**2)**0.5/1.46)**2/391 * numpy.cos(numpy.arctan(w/u)) \n",
    "    dragZ = af*((u**2+w**2)**0.5/1.46)**2/391 * numpy.sin(numpy.arctan(w/u))  \n",
    "    zStab = -stabArea*numpy.arctan(w/u)*stabLiftSlope*((u**2+w**2)**0.5/1.46)**2/391\n",
    "    pThrust = hp*550/u*propEff\n",
    "    x = pThrust - hc*rho*s*A*om**2*radius**2- dragX - mass*q*w - auw*numpy.sin(angle) + q*Xq\n",
    "    z = auw*numpy.cos(angle)-tc*rho*s*A*om**2*radius**2 + mass*q*u+zStab+dragZ\n",
    "    #m =-0.1251/3.3*iyy*w-.75*iyy*q\n",
    "    m = (tc*longCG+hc*h)*rho*s*A*om**2*radius**2+250*vcg-1.55*iyy*q+zStab*stabLever\n",
    "    tr = -qc*rho*s*A*om**2*radius**3  + q*-4.2*ir\n",
    "    #print ([x,z,m,tr,tc])\n",
    "    #print (zStab)\n",
    "    return [x,z,m,tr,tc]\n",
    "def calState(state,forces):\n",
    "    u = state[0]+forces[0]/mass*timeInt\n",
    "    w = state[1]+forces[1]/mass*timeInt\n",
    "    q = state[2]+forces[2]/iyy*timeInt\n",
    "    angle = state[3]+state[2]*timeInt+0.5*forces[2]/iyy*timeInt**2\n",
    "    om = state[4]+forces[3]/ir*timeInt\n",
    "    mu = u/(om*radius) \n",
    "    lamda = w/(om*radius)+ s*forces[4]/(2*mu)\n",
    "    aOne = 2*mu*(4*theta/3+lamda)/(1-mu**2/2)\n",
    "    return [u,w,q,angle,om,mu,lamda,aOne]\n",
    "    \n"
   ]
  },
  {
   "cell_type": "code",
   "execution_count": 4,
   "metadata": {},
   "outputs": [
    {
     "name": "stdout",
     "output_type": "stream",
     "text": [
      "[51, 3.2250417214953946, 0, 0.036, 37.951510384556165, 0.12216545769546867, 0.007725268588107199, 0.02768035188239759]\n",
      "[-67.4796769146114, -8.503866224290007, -4.263256414560601e-14, -47.6149362888261, 0.08729166063477618]\n"
     ]
    },
    {
     "name": "stderr",
     "output_type": "stream",
     "text": [
      "/Users/raghu/opt/anaconda3/lib/python3.7/site-packages/ipykernel_launcher.py:15: RuntimeWarning: overflow encountered in double_scalars\n",
      "  from ipykernel import kernelapp as app\n",
      "/Users/raghu/opt/anaconda3/lib/python3.7/site-packages/ipykernel_launcher.py:18: RuntimeWarning: overflow encountered in double_scalars\n",
      "/Users/raghu/opt/anaconda3/lib/python3.7/site-packages/ipykernel_launcher.py:19: RuntimeWarning: overflow encountered in double_scalars\n",
      "/Users/raghu/opt/anaconda3/lib/python3.7/site-packages/ipykernel_launcher.py:29: RuntimeWarning: invalid value encountered in double_scalars\n",
      "/Users/raghu/opt/anaconda3/lib/python3.7/site-packages/ipykernel_launcher.py:11: RuntimeWarning: overflow encountered in double_scalars\n",
      "  # This is added back by InteractiveShellApp.init_path()\n",
      "/Users/raghu/opt/anaconda3/lib/python3.7/site-packages/ipykernel_launcher.py:12: RuntimeWarning: overflow encountered in double_scalars\n",
      "  if sys.path[0] == '':\n",
      "/Users/raghu/opt/anaconda3/lib/python3.7/site-packages/ipykernel_launcher.py:12: RuntimeWarning: invalid value encountered in double_scalars\n",
      "  if sys.path[0] == '':\n",
      "/Users/raghu/opt/anaconda3/lib/python3.7/site-packages/ipykernel_launcher.py:13: RuntimeWarning: overflow encountered in double_scalars\n",
      "  del sys.path[0]\n",
      "/Users/raghu/opt/anaconda3/lib/python3.7/site-packages/ipykernel_launcher.py:13: RuntimeWarning: invalid value encountered in double_scalars\n",
      "  del sys.path[0]\n",
      "/Users/raghu/opt/anaconda3/lib/python3.7/site-packages/ipykernel_launcher.py:15: RuntimeWarning: invalid value encountered in sin\n",
      "  from ipykernel import kernelapp as app\n",
      "/Users/raghu/opt/anaconda3/lib/python3.7/site-packages/ipykernel_launcher.py:16: RuntimeWarning: invalid value encountered in cos\n",
      "  app.launch_new_instance()\n"
     ]
    },
    {
     "data": {
      "text/plain": [
       "[<matplotlib.lines.Line2D at 0x11ec10850>]"
      ]
     },
     "execution_count": 4,
     "metadata": {},
     "output_type": "execute_result"
    },
    {
     "data": {
      "image/png": "[encoded data removed]",
      "text/plain": [
       "<Figure size 432x288 with 2 Axes>"
      ]
     },
     "metadata": {
      "needs_background": "light"
     },
     "output_type": "display_data"
    }
   ],
   "source": [
    "time = numpy.arange(0.0, 60, timeInt)\n",
    "#time2= numpy.arange(0.0, 60, timeInt)\n",
    "uVector = []\n",
    "angleVector = []\n",
    "RRPMVector = []\n",
    "print(currentState)\n",
    "print(calForcesMoments(currentState))\n",
    "for tick in time:\n",
    "    forces = calForcesMoments(currentState)\n",
    "    #print(\"forces\",forces)\n",
    "    currentState = calState(currentState,forces)\n",
    "    #print(\"state\",currentState)\n",
    "    uVector.append (currentState[0])\n",
    "    RRPMVector.append(currentState[4]*60/(2.0*pi))\n",
    "    if (abs(currentState[3]*180.0/pi) > 90):\n",
    "        angleVector.append(90*numpy.sign(currentState[3]))\n",
    "    else:\n",
    "        angleVector.append (currentState[3]*180.0/pi)\n",
    "    \n",
    "    \n",
    "        \n",
    "ax1 = plt.subplot(212)\n",
    "ax1.plot(time, uVector)\n",
    "#ax3 = plt.subplot(212)\n",
    "#ax3.plot(time, RRPMVector)\n",
    "ax2 = plt.subplot(221)\n",
    "ax2.plot(time,angleVector)"
   ]
  },
  {
   "cell_type": "code",
   "execution_count": 5,
   "metadata": {},
   "outputs": [
    {
     "name": "stdout",
     "output_type": "stream",
     "text": [
      "44.860623985226106\n",
      "[nan, nan, nan, nan, nan, nan, nan, nan]\n"
     ]
    }
   ],
   "source": [
    "print(qc*rho*b*chord*radius*om**2*radius**3)\n",
    "print (currentState)"
   ]
  },
  {
   "cell_type": "code",
   "execution_count": 6,
   "metadata": {},
   "outputs": [
    {
     "name": "stdout",
     "output_type": "stream",
     "text": [
      "-67.4796769146114\n",
      "u w q theta om\n",
      "     -0.11      -0.15      -0.50      -9.81      -0.01\n",
      "     -0.10      -1.25      15.45      -0.40      -0.48\n",
      "      0.07       0.19      -1.55       0.00       0.03\n",
      "      0.04       0.38      -4.20       0.00      -0.03\n",
      "[-3.09193101+0.j          0.3611235 +0.60514761j  0.3611235 -0.60514761j\n",
      " -0.34931638+0.j         -0.22511349+0.j        ]\n",
      "inf sec  -0.22316151226568845\n",
      "10.382897050667692 sec  1.910703662671351\n",
      "-10.382897050667692 sec  1.910703662671351\n",
      "inf sec  -1.9752867136023113\n",
      "inf sec  -3.065120642689965\n"
     ]
    },
    {
     "name": "stderr",
     "output_type": "stream",
     "text": [
      "/Users/raghu/opt/anaconda3/lib/python3.7/site-packages/ipykernel_launcher.py:104: RuntimeWarning: divide by zero encountered in double_scalars\n"
     ]
    }
   ],
   "source": [
    "#currentState = [105.6, 3.7832480789723406, 0, 0, 36.202468522499835, 0.2156317391498461, 0.007725268588107199, 0.049647666992735956]\n",
    "#currentState = [52.8, 3.7832480789723406, 0, 0, 36.202468522499835, 0.10781586957492305, 0.007725268588107199, 0.02438846497088551]\n",
    "#currentState = [105.6, 3.7832480789723406, 0, 0.01, 36.202468522499835, 0.2156317391498461, 0.007725268588107199, 0.049647666992735956]\n",
    "#currentState[0] = 120; currentState[5]=currentState[0]/(currentState[4]*radius)\n",
    "#thrust = 0\n",
    "currentState = startState.copy()\n",
    "\n",
    "initialForces = calForcesMoments(currentState)\n",
    "currentState[0]=currentState[0]+0.01*numpy.sin(0.06)\n",
    "currentState[1]=currentState[1]+0.01*numpy.cos(0.06)\n",
    "#currentState[1]=currentState[1]+0.1*0.06\n",
    "currentState[5]=currentState[0]/(radius*currentState[4])\n",
    "currentState[6]=currentState[6]+0.01*numpy.cos(0.06)/(radius*currentState[4])\n",
    "\n",
    "currentState[7] = 2*currentState[5]*(4*theta/3+currentState[6])/(1-currentState[5]**2/2)\n",
    "\n",
    "finalForces = calForcesMoments(currentState)\n",
    "zw = (finalForces[1]-initialForces[1])/0.01/mass\n",
    "xw = (finalForces[0]-initialForces[0])/0.01/mass+zw*numpy.sin(0.06)\n",
    "mw = (finalForces[2]-initialForces[2])/0.01/iyy*3.3\n",
    "qw = (finalForces[3]-initialForces[3])/0.01/ir*3.3\n",
    "\n",
    "\n",
    "#currentState = [105.6, 3.7832480789723406, 0, 0, 36.202468522499835, 0.2156317391498461, 0.007725268588107199, 0.049647666992735956]\n",
    "#currentState = [52.8, 3.7832480789723406, 0, 0, 36.202468522499835, 0.10781586957492305, 0.007725268588107199, 0.02438846497088551]\n",
    "#currentState = [105.6, 3.7832480789723406, 0, 0.01, 36.202468522499835, 0.2156317391498461, 0.007725268588107199, 0.049647666992735956]\n",
    "#currentState[0] = 120; currentState[5]=currentState[0]/(currentState[4]*radius)\n",
    "\n",
    "currentState = startState.copy()\n",
    "initialForces = calForcesMoments(currentState)\n",
    "currentState[0]=currentState[0]+0.01*numpy.cos(0.06)\n",
    "currentState[1]=currentState[1]+0.01*numpy.sin(0.06)\n",
    "#currentState[1]=currentState[1]+0.1*0.06\n",
    "currentState[5]=currentState[0]/(radius*currentState[4])\n",
    "currentState[6]=currentState[6] + 0.01*numpy.sin(0.06)/(radius*currentState[4])\n",
    "\n",
    "currentState[7] = 2*currentState[5]*(4*theta/3+currentState[6])/(1-currentState[5]**2/2)\n",
    "\n",
    "finalForces = calForcesMoments(currentState)\n",
    "zu = (finalForces[1]-initialForces[1])/0.01/mass\n",
    "xu = (finalForces[0]-initialForces[0])/0.01/mass+zu*numpy.sin(0.06)\n",
    "mu = (finalForces[2]-initialForces[2])/0.01/iyy*3.3\n",
    "qu = (finalForces[3]-initialForces[3])/0.01/ir*3.3\n",
    "\n",
    "#currentState = [105.6, 3.7832480789723406, 0, 0, 36.202468522499835, 0.2156317391498461, 0.007725268588107199, 0.049647666992735956]\n",
    "#currentState = [105.6, 3.7832480789723406, 0, 0.01, 36.202468522499835, 0.2156317391498461, 0.007725268588107199, 0.049647666992735956]\n",
    "currentState = startState.copy()\n",
    "\n",
    "initialForces = calForcesMoments(currentState)\n",
    "print(initialForces[0])\n",
    "currentState[2] =currentState[2]+0.01\n",
    "finalForces = calForcesMoments(currentState)\n",
    "xq = (finalForces[0]-initialForces[0])/0.01/mass/3.3\n",
    "zq = (finalForces[1]-initialForces[1])/0.01/mass/3.3\n",
    "mq = (finalForces[2]-initialForces[2])/0.01/iyy\n",
    "qq = (finalForces[3]-initialForces[3])/0.01/ir\n",
    "\n",
    "\n",
    "#currentState = [105.6, 3.7832480789723406, 0, 0, 36.202468522499835, 0.2156317391498461, 0.007725268588107199, 0.049647666992735956]\n",
    "#currentState = [105.6, 3.7832480789723406, 0, 0.01, 36.202468522499835, 0.2156317391498461, 0.007725268588107199, 0.049647666992735956]\n",
    "currentState = startState.copy()\n",
    "\n",
    "\n",
    "initialForces = calForcesMoments(currentState)\n",
    "factor = 1+ 0.01/currentState[4]\n",
    "currentState[4] = currentState[4]+0.01\n",
    "currentState[5] = currentState[5]/factor\n",
    "currentState[6] = currentState[6]/factor\n",
    "currentState[7] = 2*currentState[5]*(4*theta/3+currentState[6])/(1-currentState[5]**2/2)\n",
    "\n",
    "finalForces = calForcesMoments(currentState)\n",
    "xom = (finalForces[0]-initialForces[0])/0.01/mass/3.3\n",
    "zom = (finalForces[1]-initialForces[1])/0.01/mass/3.3\n",
    "mom = (finalForces[2]-initialForces[2])/0.01/iyy\n",
    "qom = (finalForces[3]-initialForces[3])/0.01/ir\n",
    "\n",
    "#currentState = [105.6, 3.7832480789723406, 0, 0, 36.202468522499835, 0.2156317391498461, 0.007725268588107199, 0.049647666992735956]\n",
    "#currentState = [105.6, 3.7832480789723406, 0, 0.01, 36.202468522499835, 0.2156317391498461, 0.007725268588107199, 0.049647666992735956]\n",
    "currentState = startState.copy()\n",
    "\n",
    "\n",
    "\n",
    "initialForces = calForcesMoments(currentState)\n",
    "currentState[3] =currentState[3]+0.01\n",
    "finalForces = calForcesMoments(currentState)\n",
    "xtheta = (finalForces[0]-initialForces[0])/0.01/mass/3.3\n",
    "ztheta = (finalForces[1]-initialForces[1])/0.01/mass/3.3\n",
    "mtheta = (finalForces[2]-initialForces[2])/0.01/iyy\n",
    "qtheta = (finalForces[3]-initialForces[3])/0.01/ir\n",
    "\n",
    "#print (xu,zu,mu,xq,qu)\n",
    "# print (xw,zw,mw,zq,qw)\n",
    "print (\"u\",\"w\",\"q\",\"theta\",\"om\")\n",
    "print (\"{0:10.2f}\".format(xu),\"{0:10.2f}\".format(xw), \"{0:10.2f}\".format(xq),\"{0:10.2f}\".format(xtheta),\"{0:10.2f}\".format(xom))\n",
    "print(\"{0:10.2f}\".format(zu),\"{0:10.2f}\".format(zw),\"{0:10.2f}\".format(zq),\"{0:10.2f}\".format(ztheta),\"{0:10.2f}\".format(zom))\n",
    "print(\"{0:10.2f}\".format(mu),\"{0:10.2f}\".format(mw),\"{0:10.2f}\".format(mq),\"{0:10.2f}\".format(mtheta),\"{0:10.2f}\".format(mom))\n",
    "print(\"{0:10.2f}\".format(qu),\"{0:10.2f}\".format(qw),\"{0:10.2f}\".format(qq),\"{0:10.2f}\".format(qtheta),\"{0:10.2f}\".format(qom))\n",
    "\n",
    "m = numpy.matrix([[xu,xw,xq,xtheta,xom],[zu,zw,zq,ztheta,zom],[mu,mw,mq,mtheta,mom],[0,0,1,0,0],[qu,qw,qq,qtheta,qom]])\n",
    "ev = numpy.linalg.eigvals(m)\n",
    "print (ev)\n",
    "\n",
    "for root in ev:\n",
    "    print (2*pi/root.imag,\"sec \", 0.69/root.real)"
   ]
  },
  {
   "cell_type": "code",
   "execution_count": 7,
   "metadata": {},
   "outputs": [
    {
     "ename": "SyntaxError",
     "evalue": "invalid syntax (<ipython-input-7-640ca5a7f22f>, line 1)",
     "output_type": "error",
     "traceback": [
      "\u001b[0;36m  File \u001b[0;32m\"<ipython-input-7-640ca5a7f22f>\"\u001b[0;36m, line \u001b[0;32m1\u001b[0m\n\u001b[0;31m    -0.13      -0.18      -0.04!      -9.70      -0.01*\u001b[0m\n\u001b[0m                               ^\u001b[0m\n\u001b[0;31mSyntaxError\u001b[0m\u001b[0;31m:\u001b[0m invalid syntax\n"
     ]
    }
   ],
   "source": [
    "    -0.13      -0.18      -0.04!      -9.70      -0.01*\n",
    "     -0.11      -1.19       1.16*      -0.05!      -0.50\n",
    "      0.01      -0.10      -1.50       0.00      -0.00\n",
    "     -0.11      -0.83       0.00       0.00       0.08   \n",
    "    \n",
    "    \n",
    "    -0.13      -0.18      -0.04      -9.70      -0.03\n",
    "     -0.11      -1.19       1.16      -0.05      -0.57\n",
    "      0.01      -0.10      -1.50       0.00       0.03\n",
    "     -0.11      -0.83       0.00       0.00       0.01\n",
    "\n",
    "#-0.12737347608323973 -0.17797849137411553 -0.041688684065804116\n",
    "#-0.11147850943468089 -1.1871341338526131 1.1636363636363607\n",
    "#0.01453506974142361 -0.10482830395205635 -1.5\n",
    "#-0.10631363903848426 -0.8283709532022173 0.0\n",
    "\n",
    "\n",
    "#-0.12737347608323973 -0.11147850943468089 0.01453506974142361 -0.10631363903848426\n",
    "#-0.17797849137411553 -1.1871341338526131 -0.10482830395205635 -0.8283709532022173\n",
    "\n",
    "#-0.10567557579253459 -0.11147850943468089 -0.013313410356602974 -0.06723730691937085\n",
    "#-0.14100696068627802 -1.1871341338526131 -0.15227994317799706 -0.7617938445922403\n",
    "# -0.11841695292757408 -0.11730117187317483 -0.01528309244410642 -0.06744540238999787\n",
    "# -0.1400782428741517 -1.2008848534524799 -0.1824907854315037 -0.781586199269445\n",
    "\n",
    "# -0.10567557579253459 -0.11147850943468089 -0.013313410356602974 -0.020374941490718442\n",
    "# -0.14100696068627802 -1.1871341338526131 -0.15227994317799706 -0.23084661957340616\n",
    "#-0.11841695292757408 -0.11730117187317483 -0.01528309244410642 -0.02043800072424178\n",
    "#-0.14007824287425502 -1.2008848534524799 -0.1824907854315037 -0.2368443028089227\n",
    "\n"
   ]
  },
  {
   "cell_type": "code",
   "execution_count": null,
   "metadata": {},
   "outputs": [],
   "source": [
    "80*550/100*0.65\n"
   ]
  },
  {
   "cell_type": "code",
   "execution_count": null,
   "metadata": {},
   "outputs": [],
   "source": [
    "2*a*mu/(8*mu+a*s)*rho*A*s*om*radius"
   ]
  },
  {
   "cell_type": "code",
   "execution_count": null,
   "metadata": {},
   "outputs": [],
   "source": [
    "dragX = af*((u**2+w**2)**0.5/1.46)**2/391 * numpy.cos(numpy.arctan(w/u)) \n",
    "dragZ = af*((u**2+w**2)**0.5/1.46)**2/391 * numpy.sin(numpy.arctan(w/u))  \n",
    "print(dragX,dragZ,angle)\n",
    "numpy.sin(pi/2)\n"
   ]
  },
  {
   "cell_type": "code",
   "execution_count": null,
   "metadata": {},
   "outputs": [],
   "source": [
    "print (currentState)"
   ]
  },
  {
   "cell_type": "code",
   "execution_count": null,
   "metadata": {},
   "outputs": [],
   "source": [
    "ev[0].real"
   ]
  },
  {
   "cell_type": "code",
   "execution_count": 14,
   "metadata": {},
   "outputs": [
    {
     "name": "stdout",
     "output_type": "stream",
     "text": [
      "0.15\n",
      "0.02768035188239759\n"
     ]
    }
   ],
   "source": [
    "mu= 0.15\n",
    "print (mu)\n",
    "print (aOne)"
   ]
  },
  {
   "cell_type": "code",
   "execution_count": null,
   "metadata": {},
   "outputs": [],
   "source": []
  }
 ],
 "metadata": {
  "kernelspec": {
   "display_name": "Python 3",
   "language": "python",
   "name": "python3"
  },
  "language_info": {
   "codemirror_mode": {
    "name": "ipython",
    "version": 3
   },
   "file_extension": ".py",
   "mimetype": "text/x-python",
   "name": "python",
   "nbconvert_exporter": "python",
   "pygments_lexer": "ipython3",
   "version": "3.7.6"
  }
 },
 "nbformat": 4,
 "nbformat_minor": 4
}
